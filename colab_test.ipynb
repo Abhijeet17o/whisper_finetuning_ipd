{
 "cells": [
  {
   "cell_type": "code",
   "execution_count": 15,
   "id": "49b5b045",
   "metadata": {},
   "outputs": [
    {
     "name": "stdout",
     "output_type": "stream",
     "text": [
      "🚀 Setting up Colab + VS Code workflow...\n",
      "\n",
      "📋 Steps to connect:\n",
      "1. Open Google Colab in browser\n",
      "2. Mount Google Drive in Colab\n",
      "3. Sync your VS Code project to Drive\n",
      "4. Edit in VS Code, run on Colab GPU\n"
     ]
    },
    {
     "data": {
      "text/plain": [
       "True"
      ]
     },
     "execution_count": 15,
     "metadata": {},
     "output_type": "execute_result"
    }
   ],
   "source": [
    "# Method 1: Use Colab + VS Code sync via Google Drive\n",
    "# Install the Colab extension for VS Code\n",
    "\n",
    "import subprocess\n",
    "import webbrowser\n",
    "\n",
    "def setup_colab_vscode():\n",
    "    \"\"\"Setup Google Colab with VS Code integration\"\"\"\n",
    "    print(\"🚀 Setting up Colab + VS Code workflow...\")\n",
    "    \n",
    "    # Open Google Colab\n",
    "    colab_url = \"https://colab.research.google.com/\"\n",
    "    webbrowser.open(colab_url)\n",
    "    \n",
    "    print(\"\\n📋 Steps to connect:\")\n",
    "    print(\"1. Open Google Colab in browser\")\n",
    "    print(\"2. Mount Google Drive in Colab\")\n",
    "    print(\"3. Sync your VS Code project to Drive\")\n",
    "    print(\"4. Edit in VS Code, run on Colab GPU\")\n",
    "    \n",
    "    return True\n",
    "\n",
    "setup_colab_vscode()"
   ]
  },
  {
   "cell_type": "code",
   "execution_count": 16,
   "id": "74abe823",
   "metadata": {},
   "outputs": [
    {
     "name": "stdout",
     "output_type": "stream",
     "text": [
      "❌ Google Drive not found. Install Google Drive Desktop:\n",
      "https://www.google.com/drive/download/\n",
      "\n",
      "🔄 Workflow:\n",
      "1. Edit code in VS Code\n",
      "2. Save to Google Drive folder\n",
      "3. Run on Colab T4 GPU\n",
      "4. Results sync back to Drive\n"
     ]
    }
   ],
   "source": [
    "# Method 2: Google Drive sync setup\n",
    "import os\n",
    "import shutil\n",
    "\n",
    "def setup_drive_sync():\n",
    "    \"\"\"Setup Google Drive sync for Colab workflow\"\"\"\n",
    "    \n",
    "    # Check if Google Drive is installed\n",
    "    drive_paths = [\n",
    "        os.path.expanduser(\"~/Google Drive\"),\n",
    "        os.path.expanduser(\"~/GoogleDrive\"),\n",
    "        \"C:/Users/%s/Google Drive\" % os.getenv('USERNAME')\n",
    "    ]\n",
    "    \n",
    "    drive_found = False\n",
    "    for path in drive_paths:\n",
    "        if os.path.exists(path):\n",
    "            print(f\"✅ Google Drive found at: {path}\")\n",
    "            print(f\"📁 Create project folder: {path}/ColabProjects/\")\n",
    "            drive_found = True\n",
    "            break\n",
    "    \n",
    "    if not drive_found:\n",
    "        print(\"❌ Google Drive not found. Install Google Drive Desktop:\")\n",
    "        print(\"https://www.google.com/drive/download/\")\n",
    "    \n",
    "    print(\"\\n🔄 Workflow:\")\n",
    "    print(\"1. Edit code in VS Code\")\n",
    "    print(\"2. Save to Google Drive folder\") \n",
    "    print(\"3. Run on Colab T4 GPU\")\n",
    "    print(\"4. Results sync back to Drive\")\n",
    "\n",
    "setup_drive_sync()"
   ]
  },
  {
   "cell_type": "code",
   "execution_count": 18,
   "id": "8c17ca44",
   "metadata": {},
   "outputs": [
    {
     "name": "stdout",
     "output_type": "stream",
     "text": [
      "The history saving thread hit an unexpected error (UnicodeEncodeError('utf-8', '# Method 3: Generate Colab notebook template\\ndef create_colab_template():\\n    \"\"\"Create a template for running on Colab T4 GPU\"\"\"\\n    \\n    template = \\'\\'\\'\\n# Google Colab Template - Paste this in Colab\\n# ==========================================\\n\\n# 1. Check GPU availability\\nimport torch\\nprint(\"GPU Available:\", torch.cuda.is_available())\\nprint(\"GPU Name:\", torch.cuda.get_device_name(0) if torch.cuda.is_available() else \"No GPU\")\\n\\n# 2. Mount Google Drive\\nfrom google.colab import drive\\ndrive.mount(\\'/content/drive\\')\\n\\n# 3. Change to your project directory\\nimport os\\nos.chdir(\\'/content/drive/MyDrive/YourProjectFolder\\')\\n\\n# 4. Install requirements\\n!pip install -r requirements.txt\\n\\n# 5. Run your code here\\n# Your ML/AI code goes here...\\n\\n# 6. Save results back to Drive\\n# Results automatically sync to your local VS Code\\n\\'\\'\\'\\n    \\n    with open(\\'colab_template.py\\', \\'w\\') as f:\\n        f.write(template)\\n    \\n    print(\"✅ Created \\'colab_template.py\\'\")\\n    print(\"\\udccb Copy this template to Google Colab\")\\n    print(\"🚀 Enable T4 GPU: Runtime > Change Runtime > GPU > T4\")\\n\\ncreate_colab_template()', 959, 960, 'surrogates not allowed')).History will not be written to the database.\n"
     ]
    },
    {
     "ename": "UnicodeEncodeError",
     "evalue": "'utf-8' codec can't encode character '\\udccb' in position 11: surrogates not allowed",
     "output_type": "error",
     "traceback": [
      "\u001b[31m---------------------------------------------------------------------------\u001b[39m",
      "\u001b[31mUnicodeEncodeError\u001b[39m                        Traceback (most recent call last)",
      "\u001b[36mFile \u001b[39m\u001b[32m~\\AppData\\Roaming\\Python\\Python313\\site-packages\\IPython\\core\\interactiveshell.py:3490\u001b[39m, in \u001b[36mInteractiveShell.transform_cell\u001b[39m\u001b[34m(self, raw_cell)\u001b[39m\n\u001b[32m   3477\u001b[39m \u001b[38;5;250m\u001b[39m\u001b[33;03m\"\"\"Transform an input cell before parsing it.\u001b[39;00m\n\u001b[32m   3478\u001b[39m \n\u001b[32m   3479\u001b[39m \u001b[33;03mStatic transformations, implemented in IPython.core.inputtransformer2,\u001b[39;00m\n\u001b[32m   (...)\u001b[39m\u001b[32m   3487\u001b[39m \u001b[33;03msee :meth:`transform_ast`.\u001b[39;00m\n\u001b[32m   3488\u001b[39m \u001b[33;03m\"\"\"\u001b[39;00m\n\u001b[32m   3489\u001b[39m \u001b[38;5;66;03m# Static input transformations\u001b[39;00m\n\u001b[32m-> \u001b[39m\u001b[32m3490\u001b[39m cell = \u001b[38;5;28;43mself\u001b[39;49m\u001b[43m.\u001b[49m\u001b[43minput_transformer_manager\u001b[49m\u001b[43m.\u001b[49m\u001b[43mtransform_cell\u001b[49m\u001b[43m(\u001b[49m\u001b[43mraw_cell\u001b[49m\u001b[43m)\u001b[49m\n\u001b[32m   3492\u001b[39m \u001b[38;5;28;01mif\u001b[39;00m \u001b[38;5;28mlen\u001b[39m(cell.splitlines()) == \u001b[32m1\u001b[39m:\n\u001b[32m   3493\u001b[39m     \u001b[38;5;66;03m# Dynamic transformations - only applied for single line commands\u001b[39;00m\n\u001b[32m   3494\u001b[39m     \u001b[38;5;28;01mwith\u001b[39;00m \u001b[38;5;28mself\u001b[39m.builtin_trap:\n\u001b[32m   3495\u001b[39m         \u001b[38;5;66;03m# use prefilter_lines to handle trailing newlines\u001b[39;00m\n\u001b[32m   3496\u001b[39m         \u001b[38;5;66;03m# restore trailing newline for ast.parse\u001b[39;00m\n",
      "\u001b[36mFile \u001b[39m\u001b[32m~\\AppData\\Roaming\\Python\\Python313\\site-packages\\IPython\\core\\inputtransformer2.py:643\u001b[39m, in \u001b[36mTransformerManager.transform_cell\u001b[39m\u001b[34m(self, cell)\u001b[39m\n\u001b[32m    640\u001b[39m \u001b[38;5;28;01mfor\u001b[39;00m transform \u001b[38;5;129;01min\u001b[39;00m \u001b[38;5;28mself\u001b[39m.cleanup_transforms + \u001b[38;5;28mself\u001b[39m.line_transforms:\n\u001b[32m    641\u001b[39m     lines = transform(lines)\n\u001b[32m--> \u001b[39m\u001b[32m643\u001b[39m lines = \u001b[38;5;28;43mself\u001b[39;49m\u001b[43m.\u001b[49m\u001b[43mdo_token_transforms\u001b[49m\u001b[43m(\u001b[49m\u001b[43mlines\u001b[49m\u001b[43m)\u001b[49m\n\u001b[32m    644\u001b[39m \u001b[38;5;28;01mreturn\u001b[39;00m \u001b[33m'\u001b[39m\u001b[33m'\u001b[39m.join(lines)\n",
      "\u001b[36mFile \u001b[39m\u001b[32m~\\AppData\\Roaming\\Python\\Python313\\site-packages\\IPython\\core\\inputtransformer2.py:628\u001b[39m, in \u001b[36mTransformerManager.do_token_transforms\u001b[39m\u001b[34m(self, lines)\u001b[39m\n\u001b[32m    626\u001b[39m \u001b[38;5;28;01mdef\u001b[39;00m\u001b[38;5;250m \u001b[39m\u001b[34mdo_token_transforms\u001b[39m(\u001b[38;5;28mself\u001b[39m, lines):\n\u001b[32m    627\u001b[39m     \u001b[38;5;28;01mfor\u001b[39;00m _ \u001b[38;5;129;01min\u001b[39;00m \u001b[38;5;28mrange\u001b[39m(TRANSFORM_LOOP_LIMIT):\n\u001b[32m--> \u001b[39m\u001b[32m628\u001b[39m         changed, lines = \u001b[38;5;28;43mself\u001b[39;49m\u001b[43m.\u001b[49m\u001b[43mdo_one_token_transform\u001b[49m\u001b[43m(\u001b[49m\u001b[43mlines\u001b[49m\u001b[43m)\u001b[49m\n\u001b[32m    629\u001b[39m         \u001b[38;5;28;01mif\u001b[39;00m \u001b[38;5;129;01mnot\u001b[39;00m changed:\n\u001b[32m    630\u001b[39m             \u001b[38;5;28;01mreturn\u001b[39;00m lines\n",
      "\u001b[36mFile \u001b[39m\u001b[32m~\\AppData\\Roaming\\Python\\Python313\\site-packages\\IPython\\core\\inputtransformer2.py:608\u001b[39m, in \u001b[36mTransformerManager.do_one_token_transform\u001b[39m\u001b[34m(self, lines)\u001b[39m\n\u001b[32m    594\u001b[39m \u001b[38;5;28;01mdef\u001b[39;00m\u001b[38;5;250m \u001b[39m\u001b[34mdo_one_token_transform\u001b[39m(\u001b[38;5;28mself\u001b[39m, lines):\n\u001b[32m    595\u001b[39m \u001b[38;5;250m    \u001b[39m\u001b[33;03m\"\"\"Find and run the transform earliest in the code.\u001b[39;00m\n\u001b[32m    596\u001b[39m \n\u001b[32m    597\u001b[39m \u001b[33;03m    Returns (changed, lines).\u001b[39;00m\n\u001b[32m   (...)\u001b[39m\u001b[32m    606\u001b[39m \u001b[33;03m    a performance issue.\u001b[39;00m\n\u001b[32m    607\u001b[39m \u001b[33;03m    \"\"\"\u001b[39;00m\n\u001b[32m--> \u001b[39m\u001b[32m608\u001b[39m     tokens_by_line = \u001b[43mmake_tokens_by_line\u001b[49m\u001b[43m(\u001b[49m\u001b[43mlines\u001b[49m\u001b[43m)\u001b[49m\n\u001b[32m    609\u001b[39m     candidates = []\n\u001b[32m    610\u001b[39m     \u001b[38;5;28;01mfor\u001b[39;00m transformer_cls \u001b[38;5;129;01min\u001b[39;00m \u001b[38;5;28mself\u001b[39m.token_transformers:\n",
      "\u001b[36mFile \u001b[39m\u001b[32m~\\AppData\\Roaming\\Python\\Python313\\site-packages\\IPython\\core\\inputtransformer2.py:532\u001b[39m, in \u001b[36mmake_tokens_by_line\u001b[39m\u001b[34m(lines)\u001b[39m\n\u001b[32m    530\u001b[39m parenlev = \u001b[32m0\u001b[39m\n\u001b[32m    531\u001b[39m \u001b[38;5;28;01mtry\u001b[39;00m:\n\u001b[32m--> \u001b[39m\u001b[32m532\u001b[39m \u001b[43m    \u001b[49m\u001b[38;5;28;43;01mfor\u001b[39;49;00m\u001b[43m \u001b[49m\u001b[43mtoken\u001b[49m\u001b[43m \u001b[49m\u001b[38;5;129;43;01min\u001b[39;49;00m\u001b[43m \u001b[49m\u001b[43mtokenutil\u001b[49m\u001b[43m.\u001b[49m\u001b[43mgenerate_tokens_catch_errors\u001b[49m\u001b[43m(\u001b[49m\n\u001b[32m    533\u001b[39m \u001b[43m        \u001b[49m\u001b[38;5;28;43miter\u001b[39;49m\u001b[43m(\u001b[49m\u001b[43mlines\u001b[49m\u001b[43m)\u001b[49m\u001b[43m.\u001b[49m\u001b[34;43m__next__\u001b[39;49m\u001b[43m,\u001b[49m\u001b[43m \u001b[49m\u001b[43mextra_errors_to_catch\u001b[49m\u001b[43m=\u001b[49m\u001b[43m[\u001b[49m\u001b[33;43m\"\u001b[39;49m\u001b[33;43mexpected EOF\u001b[39;49m\u001b[33;43m\"\u001b[39;49m\u001b[43m]\u001b[49m\n\u001b[32m    534\u001b[39m \u001b[43m    \u001b[49m\u001b[43m)\u001b[49m\u001b[43m:\u001b[49m\n\u001b[32m    535\u001b[39m \u001b[43m        \u001b[49m\u001b[43mtokens_by_line\u001b[49m\u001b[43m[\u001b[49m\u001b[43m-\u001b[49m\u001b[32;43m1\u001b[39;49m\u001b[43m]\u001b[49m\u001b[43m.\u001b[49m\u001b[43mappend\u001b[49m\u001b[43m(\u001b[49m\u001b[43mtoken\u001b[49m\u001b[43m)\u001b[49m\n\u001b[32m    536\u001b[39m \u001b[43m        \u001b[49m\u001b[38;5;28;43;01mif\u001b[39;49;00m\u001b[43m \u001b[49m\u001b[43m(\u001b[49m\u001b[43mtoken\u001b[49m\u001b[43m.\u001b[49m\u001b[43mtype\u001b[49m\u001b[43m \u001b[49m\u001b[43m==\u001b[49m\u001b[43m \u001b[49m\u001b[43mNEWLINE\u001b[49m\u001b[43m)\u001b[49m\u001b[43m \u001b[49m\u001b[43m\\\u001b[49m\n\u001b[32m    537\u001b[39m \u001b[43m                \u001b[49m\u001b[38;5;129;43;01mor\u001b[39;49;00m\u001b[43m \u001b[49m\u001b[43m(\u001b[49m\u001b[43m(\u001b[49m\u001b[43mtoken\u001b[49m\u001b[43m.\u001b[49m\u001b[43mtype\u001b[49m\u001b[43m \u001b[49m\u001b[43m==\u001b[49m\u001b[43m \u001b[49m\u001b[43mNL\u001b[49m\u001b[43m)\u001b[49m\u001b[43m \u001b[49m\u001b[38;5;129;43;01mand\u001b[39;49;00m\u001b[43m \u001b[49m\u001b[43m(\u001b[49m\u001b[43mparenlev\u001b[49m\u001b[43m \u001b[49m\u001b[43m<\u001b[49m\u001b[43m=\u001b[49m\u001b[43m \u001b[49m\u001b[32;43m0\u001b[39;49m\u001b[43m)\u001b[49m\u001b[43m)\u001b[49m\u001b[43m:\u001b[49m\n",
      "\u001b[36mFile \u001b[39m\u001b[32m~\\AppData\\Roaming\\Python\\Python313\\site-packages\\IPython\\utils\\tokenutil.py:45\u001b[39m, in \u001b[36mgenerate_tokens_catch_errors\u001b[39m\u001b[34m(readline, extra_errors_to_catch)\u001b[39m\n\u001b[32m     43\u001b[39m tokens: \u001b[38;5;28mlist\u001b[39m[TokenInfo] = []\n\u001b[32m     44\u001b[39m \u001b[38;5;28;01mtry\u001b[39;00m:\n\u001b[32m---> \u001b[39m\u001b[32m45\u001b[39m \u001b[43m    \u001b[49m\u001b[38;5;28;43;01mfor\u001b[39;49;00m\u001b[43m \u001b[49m\u001b[43mtoken\u001b[49m\u001b[43m \u001b[49m\u001b[38;5;129;43;01min\u001b[39;49;00m\u001b[43m \u001b[49m\u001b[43mtokenize\u001b[49m\u001b[43m.\u001b[49m\u001b[43mgenerate_tokens\u001b[49m\u001b[43m(\u001b[49m\u001b[43mreadline\u001b[49m\u001b[43m)\u001b[49m\u001b[43m:\u001b[49m\n\u001b[32m     46\u001b[39m \u001b[43m        \u001b[49m\u001b[43mtokens\u001b[49m\u001b[43m.\u001b[49m\u001b[43mappend\u001b[49m\u001b[43m(\u001b[49m\u001b[43mtoken\u001b[49m\u001b[43m)\u001b[49m\n\u001b[32m     47\u001b[39m \u001b[43m        \u001b[49m\u001b[38;5;28;43;01myield\u001b[39;49;00m\u001b[43m \u001b[49m\u001b[43mtoken\u001b[49m\n",
      "\u001b[36mFile \u001b[39m\u001b[32mc:\\Python313\\Lib\\tokenize.py:582\u001b[39m, in \u001b[36m_generate_tokens_from_c_tokenizer\u001b[39m\u001b[34m(source, encoding, extra_tokens)\u001b[39m\n\u001b[32m    580\u001b[39m     it = _tokenize.TokenizerIter(source, encoding=encoding, extra_tokens=extra_tokens)\n\u001b[32m    581\u001b[39m \u001b[38;5;28;01mtry\u001b[39;00m:\n\u001b[32m--> \u001b[39m\u001b[32m582\u001b[39m \u001b[43m    \u001b[49m\u001b[38;5;28;43;01mfor\u001b[39;49;00m\u001b[43m \u001b[49m\u001b[43minfo\u001b[49m\u001b[43m \u001b[49m\u001b[38;5;129;43;01min\u001b[39;49;00m\u001b[43m \u001b[49m\u001b[43mit\u001b[49m\u001b[43m:\u001b[49m\n\u001b[32m    583\u001b[39m \u001b[43m        \u001b[49m\u001b[38;5;28;43;01myield\u001b[39;49;00m\u001b[43m \u001b[49m\u001b[43mTokenInfo\u001b[49m\u001b[43m.\u001b[49m\u001b[43m_make\u001b[49m\u001b[43m(\u001b[49m\u001b[43minfo\u001b[49m\u001b[43m)\u001b[49m\n\u001b[32m    584\u001b[39m \u001b[38;5;28;01mexcept\u001b[39;00m \u001b[38;5;167;01mSyntaxError\u001b[39;00m \u001b[38;5;28;01mas\u001b[39;00m e:\n",
      "\u001b[31mUnicodeEncodeError\u001b[39m: 'utf-8' codec can't encode character '\\udccb' in position 11: surrogates not allowed"
     ]
    }
   ],
   "source": [
    "# Method 3: Generate Colab notebook template\n",
    "def create_colab_template():\n",
    "    \"\"\"Create a template for running on Colab T4 GPU\"\"\"\n",
    "    \n",
    "    template = '''\n",
    "# Google Colab Template - Paste this in Colab\n",
    "# ==========================================\n",
    "\n",
    "# 1. Check GPU availability\n",
    "import torch\n",
    "print(\"GPU Available:\", torch.cuda.is_available())\n",
    "print(\"GPU Name:\", torch.cuda.get_device_name(0) if torch.cuda.is_available() else \"No GPU\")\n",
    "\n",
    "# 2. Mount Google Drive\n",
    "from google.colab import drive\n",
    "drive.mount('/content/drive')\n",
    "\n",
    "# 3. Change to your project directory\n",
    "import os\n",
    "os.chdir('/content/drive/MyDrive/YourProjectFolder')\n",
    "\n",
    "# 4. Install requirements\n",
    "!pip install -r requirements.txt\n",
    "\n",
    "# 5. Run your code here\n",
    "# Your ML/AI code goes here...\n",
    "\n",
    "# 6. Save results back to Drive\n",
    "# Results automatically sync to your local VS Code\n",
    "'''\n",
    "    \n",
    "    with open('colab_template.py', 'w') as f:\n",
    "        f.write(template)\n",
    "    \n",
    "    print(\"✅ Created 'colab_template.py'\")\n",
    "    print(\"\udccb Copy this template to Google Colab\")\n",
    "    print(\"🚀 Enable T4 GPU: Runtime > Change Runtime > GPU > T4\")\n",
    "\n",
    "create_colab_template()"
   ]
  },
  {
   "cell_type": "code",
   "execution_count": null,
   "id": "05e92811",
   "metadata": {},
   "outputs": [
    {
     "ename": "FileNotFoundError",
     "evalue": "[WinError 2] The system cannot find the file specified",
     "output_type": "error",
     "traceback": [
      "\u001b[31m---------------------------------------------------------------------------\u001b[39m",
      "\u001b[31mFileNotFoundError\u001b[39m                         Traceback (most recent call last)",
      "\u001b[36mCell\u001b[39m\u001b[36m \u001b[39m\u001b[32mIn[11]\u001b[39m\u001b[32m, line 1\u001b[39m\n\u001b[32m----> \u001b[39m\u001b[32m1\u001b[39m colab_eng = \u001b[43mColabCode\u001b[49m\u001b[43m(\u001b[49m\u001b[43mport\u001b[49m\u001b[43m=\u001b[49m\u001b[32;43m10000\u001b[39;49m\u001b[43m)\u001b[49m \n",
      "\u001b[36mFile \u001b[39m\u001b[32m~\\AppData\\Roaming\\Python\\Python313\\site-packages\\colabcode\\code.py:24\u001b[39m, in \u001b[36mColabCode.__init__\u001b[39m\u001b[34m(self, port, password, authtoken, mount_drive)\u001b[39m\n\u001b[32m     22\u001b[39m \u001b[38;5;28mself\u001b[39m._mount = mount_drive\n\u001b[32m     23\u001b[39m \u001b[38;5;28mself\u001b[39m._install_code()\n\u001b[32m---> \u001b[39m\u001b[32m24\u001b[39m \u001b[38;5;28;43mself\u001b[39;49m\u001b[43m.\u001b[49m\u001b[43m_install_extensions\u001b[49m\u001b[43m(\u001b[49m\u001b[43m)\u001b[49m\n\u001b[32m     25\u001b[39m \u001b[38;5;28mself\u001b[39m._start_server()\n\u001b[32m     26\u001b[39m \u001b[38;5;28mself\u001b[39m._run_code()\n",
      "\u001b[36mFile \u001b[39m\u001b[32m~\\AppData\\Roaming\\Python\\Python313\\site-packages\\colabcode\\code.py:39\u001b[39m, in \u001b[36mColabCode._install_extensions\u001b[39m\u001b[34m(self)\u001b[39m\n\u001b[32m     37\u001b[39m \u001b[38;5;28;01mdef\u001b[39;00m\u001b[38;5;250m \u001b[39m\u001b[34m_install_extensions\u001b[39m(\u001b[38;5;28mself\u001b[39m):\n\u001b[32m     38\u001b[39m     \u001b[38;5;28;01mfor\u001b[39;00m ext \u001b[38;5;129;01min\u001b[39;00m EXTENSIONS:\n\u001b[32m---> \u001b[39m\u001b[32m39\u001b[39m         \u001b[43msubprocess\u001b[49m\u001b[43m.\u001b[49m\u001b[43mrun\u001b[49m\u001b[43m(\u001b[49m\u001b[43m[\u001b[49m\u001b[33;43m\"\u001b[39;49m\u001b[33;43mcode-server\u001b[39;49m\u001b[33;43m\"\u001b[39;49m\u001b[43m,\u001b[49m\u001b[43m \u001b[49m\u001b[33;43m\"\u001b[39;49m\u001b[33;43m--install-extension\u001b[39;49m\u001b[33;43m\"\u001b[39;49m\u001b[43m,\u001b[49m\u001b[43m \u001b[49m\u001b[33;43mf\u001b[39;49m\u001b[33;43m\"\u001b[39;49m\u001b[38;5;132;43;01m{\u001b[39;49;00m\u001b[43mext\u001b[49m\u001b[38;5;132;43;01m}\u001b[39;49;00m\u001b[33;43m\"\u001b[39;49m\u001b[43m]\u001b[49m\u001b[43m)\u001b[49m\n",
      "\u001b[36mFile \u001b[39m\u001b[32mc:\\Python313\\Lib\\subprocess.py:554\u001b[39m, in \u001b[36mrun\u001b[39m\u001b[34m(input, capture_output, timeout, check, *popenargs, **kwargs)\u001b[39m\n\u001b[32m    551\u001b[39m     kwargs[\u001b[33m'\u001b[39m\u001b[33mstdout\u001b[39m\u001b[33m'\u001b[39m] = PIPE\n\u001b[32m    552\u001b[39m     kwargs[\u001b[33m'\u001b[39m\u001b[33mstderr\u001b[39m\u001b[33m'\u001b[39m] = PIPE\n\u001b[32m--> \u001b[39m\u001b[32m554\u001b[39m \u001b[38;5;28;01mwith\u001b[39;00m \u001b[43mPopen\u001b[49m\u001b[43m(\u001b[49m\u001b[43m*\u001b[49m\u001b[43mpopenargs\u001b[49m\u001b[43m,\u001b[49m\u001b[43m \u001b[49m\u001b[43m*\u001b[49m\u001b[43m*\u001b[49m\u001b[43mkwargs\u001b[49m\u001b[43m)\u001b[49m \u001b[38;5;28;01mas\u001b[39;00m process:\n\u001b[32m    555\u001b[39m     \u001b[38;5;28;01mtry\u001b[39;00m:\n\u001b[32m    556\u001b[39m         stdout, stderr = process.communicate(\u001b[38;5;28minput\u001b[39m, timeout=timeout)\n",
      "\u001b[36mFile \u001b[39m\u001b[32mc:\\Python313\\Lib\\subprocess.py:1039\u001b[39m, in \u001b[36mPopen.__init__\u001b[39m\u001b[34m(self, args, bufsize, executable, stdin, stdout, stderr, preexec_fn, close_fds, shell, cwd, env, universal_newlines, startupinfo, creationflags, restore_signals, start_new_session, pass_fds, user, group, extra_groups, encoding, errors, text, umask, pipesize, process_group)\u001b[39m\n\u001b[32m   1035\u001b[39m         \u001b[38;5;28;01mif\u001b[39;00m \u001b[38;5;28mself\u001b[39m.text_mode:\n\u001b[32m   1036\u001b[39m             \u001b[38;5;28mself\u001b[39m.stderr = io.TextIOWrapper(\u001b[38;5;28mself\u001b[39m.stderr,\n\u001b[32m   1037\u001b[39m                     encoding=encoding, errors=errors)\n\u001b[32m-> \u001b[39m\u001b[32m1039\u001b[39m     \u001b[38;5;28;43mself\u001b[39;49m\u001b[43m.\u001b[49m\u001b[43m_execute_child\u001b[49m\u001b[43m(\u001b[49m\u001b[43margs\u001b[49m\u001b[43m,\u001b[49m\u001b[43m \u001b[49m\u001b[43mexecutable\u001b[49m\u001b[43m,\u001b[49m\u001b[43m \u001b[49m\u001b[43mpreexec_fn\u001b[49m\u001b[43m,\u001b[49m\u001b[43m \u001b[49m\u001b[43mclose_fds\u001b[49m\u001b[43m,\u001b[49m\n\u001b[32m   1040\u001b[39m \u001b[43m                        \u001b[49m\u001b[43mpass_fds\u001b[49m\u001b[43m,\u001b[49m\u001b[43m \u001b[49m\u001b[43mcwd\u001b[49m\u001b[43m,\u001b[49m\u001b[43m \u001b[49m\u001b[43menv\u001b[49m\u001b[43m,\u001b[49m\n\u001b[32m   1041\u001b[39m \u001b[43m                        \u001b[49m\u001b[43mstartupinfo\u001b[49m\u001b[43m,\u001b[49m\u001b[43m \u001b[49m\u001b[43mcreationflags\u001b[49m\u001b[43m,\u001b[49m\u001b[43m \u001b[49m\u001b[43mshell\u001b[49m\u001b[43m,\u001b[49m\n\u001b[32m   1042\u001b[39m \u001b[43m                        \u001b[49m\u001b[43mp2cread\u001b[49m\u001b[43m,\u001b[49m\u001b[43m \u001b[49m\u001b[43mp2cwrite\u001b[49m\u001b[43m,\u001b[49m\n\u001b[32m   1043\u001b[39m \u001b[43m                        \u001b[49m\u001b[43mc2pread\u001b[49m\u001b[43m,\u001b[49m\u001b[43m \u001b[49m\u001b[43mc2pwrite\u001b[49m\u001b[43m,\u001b[49m\n\u001b[32m   1044\u001b[39m \u001b[43m                        \u001b[49m\u001b[43merrread\u001b[49m\u001b[43m,\u001b[49m\u001b[43m \u001b[49m\u001b[43merrwrite\u001b[49m\u001b[43m,\u001b[49m\n\u001b[32m   1045\u001b[39m \u001b[43m                        \u001b[49m\u001b[43mrestore_signals\u001b[49m\u001b[43m,\u001b[49m\n\u001b[32m   1046\u001b[39m \u001b[43m                        \u001b[49m\u001b[43mgid\u001b[49m\u001b[43m,\u001b[49m\u001b[43m \u001b[49m\u001b[43mgids\u001b[49m\u001b[43m,\u001b[49m\u001b[43m \u001b[49m\u001b[43muid\u001b[49m\u001b[43m,\u001b[49m\u001b[43m \u001b[49m\u001b[43mumask\u001b[49m\u001b[43m,\u001b[49m\n\u001b[32m   1047\u001b[39m \u001b[43m                        \u001b[49m\u001b[43mstart_new_session\u001b[49m\u001b[43m,\u001b[49m\u001b[43m \u001b[49m\u001b[43mprocess_group\u001b[49m\u001b[43m)\u001b[49m\n\u001b[32m   1048\u001b[39m \u001b[38;5;28;01mexcept\u001b[39;00m:\n\u001b[32m   1049\u001b[39m     \u001b[38;5;66;03m# Cleanup if the child failed starting.\u001b[39;00m\n\u001b[32m   1050\u001b[39m     \u001b[38;5;28;01mfor\u001b[39;00m f \u001b[38;5;129;01min\u001b[39;00m \u001b[38;5;28mfilter\u001b[39m(\u001b[38;5;28;01mNone\u001b[39;00m, (\u001b[38;5;28mself\u001b[39m.stdin, \u001b[38;5;28mself\u001b[39m.stdout, \u001b[38;5;28mself\u001b[39m.stderr)):\n",
      "\u001b[36mFile \u001b[39m\u001b[32mc:\\Python313\\Lib\\subprocess.py:1551\u001b[39m, in \u001b[36mPopen._execute_child\u001b[39m\u001b[34m(self, args, executable, preexec_fn, close_fds, pass_fds, cwd, env, startupinfo, creationflags, shell, p2cread, p2cwrite, c2pread, c2pwrite, errread, errwrite, unused_restore_signals, unused_gid, unused_gids, unused_uid, unused_umask, unused_start_new_session, unused_process_group)\u001b[39m\n\u001b[32m   1549\u001b[39m \u001b[38;5;66;03m# Start the process\u001b[39;00m\n\u001b[32m   1550\u001b[39m \u001b[38;5;28;01mtry\u001b[39;00m:\n\u001b[32m-> \u001b[39m\u001b[32m1551\u001b[39m     hp, ht, pid, tid = \u001b[43m_winapi\u001b[49m\u001b[43m.\u001b[49m\u001b[43mCreateProcess\u001b[49m\u001b[43m(\u001b[49m\u001b[43mexecutable\u001b[49m\u001b[43m,\u001b[49m\u001b[43m \u001b[49m\u001b[43margs\u001b[49m\u001b[43m,\u001b[49m\n\u001b[32m   1552\u001b[39m \u001b[43m                             \u001b[49m\u001b[38;5;66;43;03m# no special security\u001b[39;49;00m\n\u001b[32m   1553\u001b[39m \u001b[43m                             \u001b[49m\u001b[38;5;28;43;01mNone\u001b[39;49;00m\u001b[43m,\u001b[49m\u001b[43m \u001b[49m\u001b[38;5;28;43;01mNone\u001b[39;49;00m\u001b[43m,\u001b[49m\n\u001b[32m   1554\u001b[39m \u001b[43m                             \u001b[49m\u001b[38;5;28;43mint\u001b[39;49m\u001b[43m(\u001b[49m\u001b[38;5;129;43;01mnot\u001b[39;49;00m\u001b[43m \u001b[49m\u001b[43mclose_fds\u001b[49m\u001b[43m)\u001b[49m\u001b[43m,\u001b[49m\n\u001b[32m   1555\u001b[39m \u001b[43m                             \u001b[49m\u001b[43mcreationflags\u001b[49m\u001b[43m,\u001b[49m\n\u001b[32m   1556\u001b[39m \u001b[43m                             \u001b[49m\u001b[43menv\u001b[49m\u001b[43m,\u001b[49m\n\u001b[32m   1557\u001b[39m \u001b[43m                             \u001b[49m\u001b[43mcwd\u001b[49m\u001b[43m,\u001b[49m\n\u001b[32m   1558\u001b[39m \u001b[43m                             \u001b[49m\u001b[43mstartupinfo\u001b[49m\u001b[43m)\u001b[49m\n\u001b[32m   1559\u001b[39m \u001b[38;5;28;01mfinally\u001b[39;00m:\n\u001b[32m   1560\u001b[39m     \u001b[38;5;66;03m# Child is launched. Close the parent's copy of those pipe\u001b[39;00m\n\u001b[32m   1561\u001b[39m     \u001b[38;5;66;03m# handles that only the child should have open.  You need\u001b[39;00m\n\u001b[32m   (...)\u001b[39m\u001b[32m   1564\u001b[39m     \u001b[38;5;66;03m# pipe will not close when the child process exits and the\u001b[39;00m\n\u001b[32m   1565\u001b[39m     \u001b[38;5;66;03m# ReadFile will hang.\u001b[39;00m\n\u001b[32m   1566\u001b[39m     \u001b[38;5;28mself\u001b[39m._close_pipe_fds(p2cread, p2cwrite,\n\u001b[32m   1567\u001b[39m                          c2pread, c2pwrite,\n\u001b[32m   1568\u001b[39m                          errread, errwrite)\n",
      "\u001b[31mFileNotFoundError\u001b[39m: [WinError 2] The system cannot find the file specified"
     ]
    }
   ],
   "source": [
    "\n",
    "# Method 4: Quick VS Code + Colab GPU workflow\n",
    "import subprocess\n",
    "import os\n",
    "\n",
    "def open_vscode_here():\n",
    "    \"\"\"Open VS Code in current directory\"\"\"\n",
    "    try:\n",
    "        subprocess.run([\"code\", \".\"], check=True)\n",
    "        print(\"✅ VS Code opened in current directory\")\n",
    "        print(\"📝 Edit your code here\")\n",
    "    except:\n",
    "        print(\"❌ VS Code not found. Install VS Code first.\")\n",
    "\n",
    "def quick_colab_setup():\n",
    "    \"\"\"Quick setup for VS Code + Colab T4 GPU workflow\"\"\"\n",
    "    print(\"🚀 VS Code + Colab T4 GPU Workflow:\")\n",
    "    print(\"\\n1. 💻 Code in VS Code (your laptop)\")\n",
    "    print(\"2. 🔄 Sync via Google Drive\")  \n",
    "    print(\"3. 🖥️ Run on Colab T4 GPU\")\n",
    "    print(\"4. 📊 Results sync back\")\n",
    "    \n",
    "    print(\"\\n⚡ Benefits:\")\n",
    "    print(\"• Free T4 GPU (15GB VRAM)\")\n",
    "    print(\"• VS Code comfort\")\n",
    "    print(\"• No local GPU needed\")\n",
    "\n",
    "# Run the setup\n",
    "open_vscode_here()\n",
    "quick_colab_setup()"
   ]
  },
  {
   "cell_type": "code",
   "execution_count": null,
   "id": "d3210008",
   "metadata": {},
   "outputs": [],
   "source": []
  }
 ],
 "metadata": {
  "kernelspec": {
   "display_name": "Python 3",
   "language": "python",
   "name": "python3"
  },
  "language_info": {
   "codemirror_mode": {
    "name": "ipython",
    "version": 3
   },
   "file_extension": ".py",
   "mimetype": "text/x-python",
   "name": "python",
   "nbconvert_exporter": "python",
   "pygments_lexer": "ipython3",
   "version": "3.13.3"
  }
 },
 "nbformat": 4,
 "nbformat_minor": 5
}
